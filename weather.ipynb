{
 "cells": [
  {
   "cell_type": "code",
   "execution_count": 10,
   "metadata": {
    "tags": []
   },
   "outputs": [
    {
     "output_type": "stream",
     "name": "stdout",
     "text": "Collecting vincenty\n  Downloading vincenty-0.1.4.tar.gz (2.8 kB)\nBuilding wheels for collected packages: vincenty\n  Building wheel for vincenty (setup.py): started\n  Building wheel for vincenty (setup.py): finished with status 'done'\n  Created wheel for vincenty: filename=vincenty-0.1.4-py3-none-any.whl size=3084 sha256=fbdddd2d20cd539d4fcd17248613d4883321629ca0baf9d53c124215948a27b0\n  Stored in directory: c:\\users\\asaf karnieli\\appdata\\local\\pip\\cache\\wheels\\2f\\4d\\df\\6e2ce31c63c93508b38ed9098c1483e7616b55a6ddabcd2f5b\nSuccessfully built vincenty\nInstalling collected packages: vincenty\nSuccessfully installed vincenty-0.1.4\n"
    }
   ],
   "source": [
    "import torch\n",
    "tv = torch.__version__\n",
    "cv = torch.version.cuda\n",
    "# print(cv)  # change this to the following format...\n",
    "cv = \"cu101\"\n",
    "# print(tv)\n",
    "link = \"https://pytorch-geometric.com/whl/torch-\" + tv + \".html\"\n",
    "!pip install torch-scatter==latest+{cv} -f {link}\n",
    "!pip install torch-sparse==latest+{cv} -f {link}\n",
    "!pip install torch-cluster==latest+{cv} -f {link}\n",
    "!pip install torch-spline-conv==latest+{cv} -f {link}\n",
    "!pip install torch-geometric\n",
    "!pip install networkx \n",
    "!pip install vincenty  # used for distance calculation between cities"
   ]
  },
  {
   "cell_type": "code",
   "execution_count": 11,
   "metadata": {
    "tags": []
   },
   "outputs": [],
   "source": [
    "# get data from here - https://www.kaggle.com/berkeleyearth/climate-change-earth-surface-temperature-data?select=GlobalLandTemperaturesByCity.csv\n",
    "\n",
    "import numpy as np\n",
    "import pandas as pd\n",
    "import matplotlib.pyplot as plt\n",
    "import networkx\n",
    "from vincenty import vincenty\n",
    "\n",
    "# read data, take only data for USA at the most recent date (day)\n",
    "df = pd.read_csv('../GlobalLandTemperaturesByCity.csv')\n",
    "df = df[df['Country']==\"United States\"]\n",
    "df = df[df['dt']==\"2013-09-01\"]\n",
    "df = df.fillna(0)\n",
    "\n"
   ]
  },
  {
   "cell_type": "code",
   "execution_count": 12,
   "metadata": {},
   "outputs": [
    {
     "output_type": "execute_result",
     "data": {
      "text/plain": "                dt  AverageTemperature  AverageTemperatureUncertainty  \\\n49879   2013-09-01              25.791                          1.180   \n140304  2013-09-01              17.799                          1.093   \n170399  2013-09-01              19.207                          0.866   \n190766  2013-09-01              19.643                          1.050   \n205489  2013-09-01              17.408                          1.048   \n\n               City        Country Latitude Longitude  \n49879       Abilene  United States   32.95N   100.53W  \n140304        Akron  United States   40.99N    80.95W  \n170399  Albuquerque  United States   34.56N   107.03W  \n190766   Alexandria  United States   39.38N    76.99W  \n205489    Allentown  United States   40.99N    74.56W  ",
      "text/html": "<div>\n<style scoped>\n    .dataframe tbody tr th:only-of-type {\n        vertical-align: middle;\n    }\n\n    .dataframe tbody tr th {\n        vertical-align: top;\n    }\n\n    .dataframe thead th {\n        text-align: right;\n    }\n</style>\n<table border=\"1\" class=\"dataframe\">\n  <thead>\n    <tr style=\"text-align: right;\">\n      <th></th>\n      <th>dt</th>\n      <th>AverageTemperature</th>\n      <th>AverageTemperatureUncertainty</th>\n      <th>City</th>\n      <th>Country</th>\n      <th>Latitude</th>\n      <th>Longitude</th>\n    </tr>\n  </thead>\n  <tbody>\n    <tr>\n      <th>49879</th>\n      <td>2013-09-01</td>\n      <td>25.791</td>\n      <td>1.180</td>\n      <td>Abilene</td>\n      <td>United States</td>\n      <td>32.95N</td>\n      <td>100.53W</td>\n    </tr>\n    <tr>\n      <th>140304</th>\n      <td>2013-09-01</td>\n      <td>17.799</td>\n      <td>1.093</td>\n      <td>Akron</td>\n      <td>United States</td>\n      <td>40.99N</td>\n      <td>80.95W</td>\n    </tr>\n    <tr>\n      <th>170399</th>\n      <td>2013-09-01</td>\n      <td>19.207</td>\n      <td>0.866</td>\n      <td>Albuquerque</td>\n      <td>United States</td>\n      <td>34.56N</td>\n      <td>107.03W</td>\n    </tr>\n    <tr>\n      <th>190766</th>\n      <td>2013-09-01</td>\n      <td>19.643</td>\n      <td>1.050</td>\n      <td>Alexandria</td>\n      <td>United States</td>\n      <td>39.38N</td>\n      <td>76.99W</td>\n    </tr>\n    <tr>\n      <th>205489</th>\n      <td>2013-09-01</td>\n      <td>17.408</td>\n      <td>1.048</td>\n      <td>Allentown</td>\n      <td>United States</td>\n      <td>40.99N</td>\n      <td>74.56W</td>\n    </tr>\n  </tbody>\n</table>\n</div>"
     },
     "metadata": {},
     "execution_count": 12
    }
   ],
   "source": [
    "df.head()"
   ]
  },
  {
   "cell_type": "code",
   "execution_count": null,
   "metadata": {},
   "outputs": [],
   "source": [
    "# create the graph - \n",
    "graph= networkx.Graph()\n",
    "# todo - add vertices - one for each city\n",
    "\n",
    "\n",
    "\n",
    "for idx1, itm1 in enumerate(data):\n",
    "    for idx2, itm2 in enumerate(data):\n",
    "            pos1 = (itm1[\"lng\"], itm1[\"lat\"])\n",
    "            pos2 = (itm2[\"lng\"], itm2[\"lat\"])\n",
    "            distance = vincenty(pos1, pos2).meters #geopy distance\n",
    "            # print(idx1, idx2, distance)\n",
    "            graph.add_edge(idx1, idx2, weight=distance)"
   ]
  }
 ],
 "metadata": {
  "language_info": {
   "codemirror_mode": {
    "name": "ipython",
    "version": 3
   },
   "file_extension": ".py",
   "mimetype": "text/x-python",
   "name": "python",
   "nbconvert_exporter": "python",
   "pygments_lexer": "ipython3",
   "version": "3.7.5-final"
  },
  "orig_nbformat": 2,
  "kernelspec": {
   "name": "python3",
   "display_name": "Python 3"
  }
 },
 "nbformat": 4,
 "nbformat_minor": 2
}